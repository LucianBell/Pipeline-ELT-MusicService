{
 "cells": [
  {
   "cell_type": "code",
   "execution_count": 67,
   "metadata": {},
   "outputs": [],
   "source": [
    "import sqlite3 as sql\n",
    "import pandas as pd\n",
    "import numpy as np\n",
    "import json"
   ]
  },
  {
   "cell_type": "code",
   "execution_count": 68,
   "metadata": {},
   "outputs": [],
   "source": [
    "# Connect to database file\n",
    "my_database = \"../data/raw_data/chinook.db\"\n",
    "connection = sql.connect(database=my_database)\n",
    "cursor = connection.cursor()"
   ]
  },
  {
   "cell_type": "code",
   "execution_count": 69,
   "metadata": {},
   "outputs": [
    {
     "data": {
      "text/plain": [
       "[('albums',),\n",
       " ('sqlite_sequence',),\n",
       " ('artists',),\n",
       " ('customers',),\n",
       " ('employees',),\n",
       " ('genres',),\n",
       " ('invoices',),\n",
       " ('invoice_items',),\n",
       " ('media_types',),\n",
       " ('playlists',),\n",
       " ('playlist_track',),\n",
       " ('tracks',),\n",
       " ('sqlite_stat1',)]"
      ]
     },
     "execution_count": 69,
     "metadata": {},
     "output_type": "execute_result"
    }
   ],
   "source": [
    "cursor.execute(\"SELECT name FROM sqlite_master WHERE type='table';\")\n",
    "tables = cursor.fetchall()\n",
    "tables"
   ]
  },
  {
   "cell_type": "code",
   "execution_count": 70,
   "metadata": {},
   "outputs": [
    {
     "data": {
      "text/plain": [
       "[(1, 'AC/DC'),\n",
       " (2, 'Accept'),\n",
       " (3, 'Aerosmith'),\n",
       " (4, 'Alanis Morissette'),\n",
       " (5, 'Alice In Chains'),\n",
       " (6, 'Antônio Carlos Jobim'),\n",
       " (7, 'Apocalyptica'),\n",
       " (8, 'Audioslave'),\n",
       " (9, 'BackBeat'),\n",
       " (10, 'Billy Cobham'),\n",
       " (11, 'Black Label Society'),\n",
       " (12, 'Black Sabbath'),\n",
       " (13, 'Body Count'),\n",
       " (14, 'Bruce Dickinson'),\n",
       " (15, 'Buddy Guy'),\n",
       " (16, 'Caetano Veloso'),\n",
       " (17, 'Chico Buarque'),\n",
       " (18, 'Chico Science & Nação Zumbi'),\n",
       " (19, 'Cidade Negra'),\n",
       " (20, 'Cláudio Zoli'),\n",
       " (21, 'Various Artists'),\n",
       " (22, 'Led Zeppelin'),\n",
       " (23, 'Frank Zappa & Captain Beefheart'),\n",
       " (24, 'Marcos Valle'),\n",
       " (25, 'Milton Nascimento & Bebeto'),\n",
       " (26, 'Azymuth'),\n",
       " (27, 'Gilberto Gil'),\n",
       " (28, 'João Gilberto'),\n",
       " (29, 'Bebel Gilberto'),\n",
       " (30, 'Jorge Vercilo'),\n",
       " (31, 'Baby Consuelo'),\n",
       " (32, 'Ney Matogrosso'),\n",
       " (33, 'Luiz Melodia'),\n",
       " (34, 'Nando Reis'),\n",
       " (35, 'Pedro Luís & A Parede'),\n",
       " (36, 'O Rappa'),\n",
       " (37, 'Ed Motta'),\n",
       " (38, 'Banda Black Rio'),\n",
       " (39, 'Fernanda Porto'),\n",
       " (40, 'Os Cariocas'),\n",
       " (41, 'Elis Regina'),\n",
       " (42, 'Milton Nascimento'),\n",
       " (43, 'A Cor Do Som'),\n",
       " (44, 'Kid Abelha'),\n",
       " (45, 'Sandra De Sá'),\n",
       " (46, 'Jorge Ben'),\n",
       " (47, 'Hermeto Pascoal'),\n",
       " (48, 'Barão Vermelho'),\n",
       " (49, 'Edson, DJ Marky & DJ Patife Featuring Fernanda Porto'),\n",
       " (50, 'Metallica'),\n",
       " (51, 'Queen'),\n",
       " (52, 'Kiss'),\n",
       " (53, 'Spyro Gyra'),\n",
       " (54, 'Green Day'),\n",
       " (55, 'David Coverdale'),\n",
       " (56, 'Gonzaguinha'),\n",
       " (57, 'Os Mutantes'),\n",
       " (58, 'Deep Purple'),\n",
       " (59, 'Santana'),\n",
       " (60, 'Santana Feat. Dave Matthews'),\n",
       " (61, 'Santana Feat. Everlast'),\n",
       " (62, 'Santana Feat. Rob Thomas'),\n",
       " (63, 'Santana Feat. Lauryn Hill & Cee-Lo'),\n",
       " (64, 'Santana Feat. The Project G&B'),\n",
       " (65, 'Santana Feat. Maná'),\n",
       " (66, 'Santana Feat. Eagle-Eye Cherry'),\n",
       " (67, 'Santana Feat. Eric Clapton'),\n",
       " (68, 'Miles Davis'),\n",
       " (69, 'Gene Krupa'),\n",
       " (70, 'Toquinho & Vinícius'),\n",
       " (71, 'Vinícius De Moraes & Baden Powell'),\n",
       " (72, 'Vinícius De Moraes'),\n",
       " (73, 'Vinícius E Qurteto Em Cy'),\n",
       " (74, 'Vinícius E Odette Lara'),\n",
       " (75, 'Vinicius, Toquinho & Quarteto Em Cy'),\n",
       " (76, 'Creedence Clearwater Revival'),\n",
       " (77, 'Cássia Eller'),\n",
       " (78, 'Def Leppard'),\n",
       " (79, 'Dennis Chambers'),\n",
       " (80, 'Djavan'),\n",
       " (81, 'Eric Clapton'),\n",
       " (82, 'Faith No More'),\n",
       " (83, 'Falamansa'),\n",
       " (84, 'Foo Fighters'),\n",
       " (85, 'Frank Sinatra'),\n",
       " (86, 'Funk Como Le Gusta'),\n",
       " (87, 'Godsmack'),\n",
       " (88, \"Guns N' Roses\"),\n",
       " (89, 'Incognito'),\n",
       " (90, 'Iron Maiden'),\n",
       " (91, 'James Brown'),\n",
       " (92, 'Jamiroquai'),\n",
       " (93, 'JET'),\n",
       " (94, 'Jimi Hendrix'),\n",
       " (95, 'Joe Satriani'),\n",
       " (96, 'Jota Quest'),\n",
       " (97, 'João Suplicy'),\n",
       " (98, 'Judas Priest'),\n",
       " (99, 'Legião Urbana'),\n",
       " (100, 'Lenny Kravitz'),\n",
       " (101, 'Lulu Santos'),\n",
       " (102, 'Marillion'),\n",
       " (103, 'Marisa Monte'),\n",
       " (104, 'Marvin Gaye'),\n",
       " (105, 'Men At Work'),\n",
       " (106, 'Motörhead'),\n",
       " (107, 'Motörhead & Girlschool'),\n",
       " (108, 'Mônica Marianno'),\n",
       " (109, 'Mötley Crüe'),\n",
       " (110, 'Nirvana'),\n",
       " (111, 'O Terço'),\n",
       " (112, 'Olodum'),\n",
       " (113, 'Os Paralamas Do Sucesso'),\n",
       " (114, 'Ozzy Osbourne'),\n",
       " (115, 'Page & Plant'),\n",
       " (116, 'Passengers'),\n",
       " (117, \"Paul D'Ianno\"),\n",
       " (118, 'Pearl Jam'),\n",
       " (119, 'Peter Tosh'),\n",
       " (120, 'Pink Floyd'),\n",
       " (121, 'Planet Hemp'),\n",
       " (122, 'R.E.M. Feat. Kate Pearson'),\n",
       " (123, 'R.E.M. Feat. KRS-One'),\n",
       " (124, 'R.E.M.'),\n",
       " (125, 'Raimundos'),\n",
       " (126, 'Raul Seixas'),\n",
       " (127, 'Red Hot Chili Peppers'),\n",
       " (128, 'Rush'),\n",
       " (129, 'Simply Red'),\n",
       " (130, 'Skank'),\n",
       " (131, 'Smashing Pumpkins'),\n",
       " (132, 'Soundgarden'),\n",
       " (133, 'Stevie Ray Vaughan & Double Trouble'),\n",
       " (134, 'Stone Temple Pilots'),\n",
       " (135, 'System Of A Down'),\n",
       " (136, 'Terry Bozzio, Tony Levin & Steve Stevens'),\n",
       " (137, 'The Black Crowes'),\n",
       " (138, 'The Clash'),\n",
       " (139, 'The Cult'),\n",
       " (140, 'The Doors'),\n",
       " (141, 'The Police'),\n",
       " (142, 'The Rolling Stones'),\n",
       " (143, 'The Tea Party'),\n",
       " (144, 'The Who'),\n",
       " (145, 'Tim Maia'),\n",
       " (146, 'Titãs'),\n",
       " (147, 'Battlestar Galactica'),\n",
       " (148, 'Heroes'),\n",
       " (149, 'Lost'),\n",
       " (150, 'U2'),\n",
       " (151, 'UB40'),\n",
       " (152, 'Van Halen'),\n",
       " (153, 'Velvet Revolver'),\n",
       " (154, 'Whitesnake'),\n",
       " (155, 'Zeca Pagodinho'),\n",
       " (156, 'The Office'),\n",
       " (157, 'Dread Zeppelin'),\n",
       " (158, 'Battlestar Galactica (Classic)'),\n",
       " (159, 'Aquaman'),\n",
       " (160, 'Christina Aguilera featuring BigElf'),\n",
       " (161, \"Aerosmith & Sierra Leone's Refugee Allstars\"),\n",
       " (162, 'Los Lonely Boys'),\n",
       " (163, 'Corinne Bailey Rae'),\n",
       " (164, 'Dhani Harrison & Jakob Dylan'),\n",
       " (165, 'Jackson Browne'),\n",
       " (166, 'Avril Lavigne'),\n",
       " (167, 'Big & Rich'),\n",
       " (168, \"Youssou N'Dour\"),\n",
       " (169, 'Black Eyed Peas'),\n",
       " (170, 'Jack Johnson'),\n",
       " (171, 'Ben Harper'),\n",
       " (172, 'Snow Patrol'),\n",
       " (173, 'Matisyahu'),\n",
       " (174, 'The Postal Service'),\n",
       " (175, 'Jaguares'),\n",
       " (176, 'The Flaming Lips'),\n",
       " (177, \"Jack's Mannequin & Mick Fleetwood\"),\n",
       " (178, 'Regina Spektor'),\n",
       " (179, 'Scorpions'),\n",
       " (180, 'House Of Pain'),\n",
       " (181, 'Xis'),\n",
       " (182, 'Nega Gizza'),\n",
       " (183, 'Gustavo & Andres Veiga & Salazar'),\n",
       " (184, 'Rodox'),\n",
       " (185, 'Charlie Brown Jr.'),\n",
       " (186, 'Pedro Luís E A Parede'),\n",
       " (187, 'Los Hermanos'),\n",
       " (188, 'Mundo Livre S/A'),\n",
       " (189, 'Otto'),\n",
       " (190, 'Instituto'),\n",
       " (191, 'Nação Zumbi'),\n",
       " (192, 'DJ Dolores & Orchestra Santa Massa'),\n",
       " (193, 'Seu Jorge'),\n",
       " (194, 'Sabotage E Instituto'),\n",
       " (195, 'Stereo Maracana'),\n",
       " (196, 'Cake'),\n",
       " (197, 'Aisha Duo'),\n",
       " (198, 'Habib Koité and Bamada'),\n",
       " (199, 'Karsh Kale'),\n",
       " (200, 'The Posies'),\n",
       " (201, 'Luciana Souza/Romero Lubambo'),\n",
       " (202, 'Aaron Goldberg'),\n",
       " (203, 'Nicolaus Esterhazy Sinfonia'),\n",
       " (204, 'Temple of the Dog'),\n",
       " (205, 'Chris Cornell'),\n",
       " (206, 'Alberto Turco & Nova Schola Gregoriana'),\n",
       " (207, 'Richard Marlow & The Choir of Trinity College, Cambridge'),\n",
       " (208, 'English Concert & Trevor Pinnock'),\n",
       " (209, 'Anne-Sophie Mutter, Herbert Von Karajan & Wiener Philharmoniker'),\n",
       " (210,\n",
       "  'Hilary Hahn, Jeffrey Kahane, Los Angeles Chamber Orchestra & Margaret Batjer'),\n",
       " (211, 'Wilhelm Kempff'),\n",
       " (212, 'Yo-Yo Ma'),\n",
       " (213, 'Scholars Baroque Ensemble'),\n",
       " (214, 'Academy of St. Martin in the Fields & Sir Neville Marriner'),\n",
       " (215,\n",
       "  'Academy of St. Martin in the Fields Chamber Ensemble & Sir Neville Marriner'),\n",
       " (216, 'Berliner Philharmoniker, Claudio Abbado & Sabine Meyer'),\n",
       " (217, 'Royal Philharmonic Orchestra & Sir Thomas Beecham'),\n",
       " (218, 'Orchestre Révolutionnaire et Romantique & John Eliot Gardiner'),\n",
       " (219, 'Britten Sinfonia, Ivor Bolton & Lesley Garrett'),\n",
       " (220,\n",
       "  'Chicago Symphony Chorus, Chicago Symphony Orchestra & Sir Georg Solti'),\n",
       " (221, 'Sir Georg Solti & Wiener Philharmoniker'),\n",
       " (222,\n",
       "  'Academy of St. Martin in the Fields, John Birch, Sir Neville Marriner & Sylvia McNair'),\n",
       " (223, 'London Symphony Orchestra & Sir Charles Mackerras'),\n",
       " (224, 'Barry Wordsworth & BBC Concert Orchestra'),\n",
       " (225, 'Herbert Von Karajan, Mirella Freni & Wiener Philharmoniker'),\n",
       " (226, 'Eugene Ormandy'),\n",
       " (227, 'Luciano Pavarotti'),\n",
       " (228, 'Leonard Bernstein & New York Philharmonic'),\n",
       " (229, 'Boston Symphony Orchestra & Seiji Ozawa'),\n",
       " (230, 'Aaron Copland & London Symphony Orchestra'),\n",
       " (231, 'Ton Koopman'),\n",
       " (232, 'Sergei Prokofiev & Yuri Temirkanov'),\n",
       " (233, 'Chicago Symphony Orchestra & Fritz Reiner'),\n",
       " (234, 'Orchestra of The Age of Enlightenment'),\n",
       " (235, 'Emanuel Ax, Eugene Ormandy & Philadelphia Orchestra'),\n",
       " (236, 'James Levine'),\n",
       " (237, 'Berliner Philharmoniker & Hans Rosbaud'),\n",
       " (238, 'Maurizio Pollini'),\n",
       " (239,\n",
       "  'Academy of St. Martin in the Fields, Sir Neville Marriner & William Bennett'),\n",
       " (240, 'Gustav Mahler'),\n",
       " (241, 'Felix Schmidt, London Symphony Orchestra & Rafael Frühbeck de Burgos'),\n",
       " (242, 'Edo de Waart & San Francisco Symphony'),\n",
       " (243, 'Antal Doráti & London Symphony Orchestra'),\n",
       " (244, 'Choir Of Westminster Abbey & Simon Preston'),\n",
       " (245, 'Michael Tilson Thomas & San Francisco Symphony'),\n",
       " (246,\n",
       "  'Chor der Wiener Staatsoper, Herbert Von Karajan & Wiener Philharmoniker'),\n",
       " (247, \"The King's Singers\"),\n",
       " (248, 'Berliner Philharmoniker & Herbert Von Karajan'),\n",
       " (249, 'Sir Georg Solti, Sumi Jo & Wiener Philharmoniker'),\n",
       " (250, \"Christopher O'Riley\"),\n",
       " (251, 'Fretwork'),\n",
       " (252, 'Amy Winehouse'),\n",
       " (253, 'Calexico'),\n",
       " (254, 'Otto Klemperer & Philharmonia Orchestra'),\n",
       " (255, 'Yehudi Menuhin'),\n",
       " (256, 'Philharmonia Orchestra & Sir Neville Marriner'),\n",
       " (257,\n",
       "  'Academy of St. Martin in the Fields, Sir Neville Marriner & Thurston Dart'),\n",
       " (258, 'Les Arts Florissants & William Christie'),\n",
       " (259, 'The 12 Cellists of The Berlin Philharmonic'),\n",
       " (260, 'Adrian Leaper & Doreen de Feis'),\n",
       " (261, 'Roger Norrington, London Classical Players'),\n",
       " (262, \"Charles Dutoit & L'Orchestre Symphonique de Montréal\"),\n",
       " (263,\n",
       "  'Equale Brass Ensemble, John Eliot Gardiner & Munich Monteverdi Orchestra and Choir'),\n",
       " (264, \"Kent Nagano and Orchestre de l'Opéra de Lyon\"),\n",
       " (265, 'Julian Bream'),\n",
       " (266, 'Martin Roscoe'),\n",
       " (267, 'Göteborgs Symfoniker & Neeme Järvi'),\n",
       " (268, 'Itzhak Perlman'),\n",
       " (269, 'Michele Campanella'),\n",
       " (270, 'Gerald Moore'),\n",
       " (271, 'Mela Tenenbaum, Pro Musica Prague & Richard Kapp'),\n",
       " (272, 'Emerson String Quartet'),\n",
       " (273,\n",
       "  'C. Monteverdi, Nigel Rogers - Chiaroscuro; London Baroque; London Cornett & Sackbu'),\n",
       " (274, 'Nash Ensemble'),\n",
       " (275, 'Philip Glass Ensemble')]"
      ]
     },
     "execution_count": 70,
     "metadata": {},
     "output_type": "execute_result"
    }
   ],
   "source": [
    "cursor.execute(\"SELECT * FROM artists;\")\n",
    "artists = cursor.fetchall()\n",
    "artists"
   ]
  },
  {
   "cell_type": "code",
   "execution_count": 71,
   "metadata": {},
   "outputs": [
    {
     "data": {
      "text/plain": [
       "list"
      ]
     },
     "execution_count": 71,
     "metadata": {},
     "output_type": "execute_result"
    }
   ],
   "source": [
    "cursor.execute(\"SELECT artists.*, COUNT(albums.ArtistId) AS album_count FROM artists LEFT JOIN albums ON artists.ArtistId = albums.ArtistId GROUP BY artists.ArtistId ORDER BY CASE WHEN artists.Name = 'Various Artists' THEN 1 ELSE 0 END, album_count DESC;\")\n",
    "artists_most_albuns = cursor.fetchall()\n",
    "type(artists_most_albuns)"
   ]
  },
  {
   "cell_type": "code",
   "execution_count": 72,
   "metadata": {},
   "outputs": [
    {
     "data": {
      "text/plain": [
       "[(90, 'Iron Maiden', 21),\n",
       " (22, 'Led Zeppelin', 14),\n",
       " (58, 'Deep Purple', 11),\n",
       " (50, 'Metallica', 10),\n",
       " (150, 'U2', 10),\n",
       " (114, 'Ozzy Osbourne', 6),\n",
       " (118, 'Pearl Jam', 5),\n",
       " (82, 'Faith No More', 4),\n",
       " (84, 'Foo Fighters', 4),\n",
       " (149, 'Lost', 4)]"
      ]
     },
     "execution_count": 72,
     "metadata": {},
     "output_type": "execute_result"
    }
   ],
   "source": [
    "top_ten = artists_most_albuns[:10]\n",
    "\n",
    "top_ten"
   ]
  },
  {
   "cell_type": "code",
   "execution_count": 73,
   "metadata": {},
   "outputs": [],
   "source": [
    "json_data = {\"artists\": []}\n",
    "\n",
    "for artist in top_ten:\n",
    "    json_data[\"artists\"].append({\n",
    "        \"artist_id\": artist[0],  # Assuming the artist_id is at index 0\n",
    "        \"name\": artist[1],       # Assuming the name is at index 1\n",
    "        \"album_count\": artist[2] # Assuming the album_count is at index 2\n",
    "    })"
   ]
  },
  {
   "cell_type": "code",
   "execution_count": 74,
   "metadata": {},
   "outputs": [],
   "source": [
    "path_10_artists = \"../data/processed_data/10_most_colaborative_artists.json\"\n",
    "\n",
    "json_data\n",
    "\n",
    "with open(path_10_artists, \"w\") as file:\n",
    "    json.dump(json_data, file, indent=2)"
   ]
  },
  {
   "cell_type": "markdown",
   "metadata": {},
   "source": [
    "#Part 2"
   ]
  },
  {
   "cell_type": "code",
   "execution_count": 75,
   "metadata": {},
   "outputs": [
    {
     "data": {
      "text/plain": [
       "[(1, 'Rock'),\n",
       " (2, 'Jazz'),\n",
       " (3, 'Metal'),\n",
       " (4, 'Alternative & Punk'),\n",
       " (5, 'Rock And Roll'),\n",
       " (6, 'Blues'),\n",
       " (7, 'Latin'),\n",
       " (8, 'Reggae'),\n",
       " (9, 'Pop'),\n",
       " (10, 'Soundtrack'),\n",
       " (11, 'Bossa Nova'),\n",
       " (12, 'Easy Listening'),\n",
       " (13, 'Heavy Metal'),\n",
       " (14, 'R&B/Soul'),\n",
       " (15, 'Electronica/Dance'),\n",
       " (16, 'World'),\n",
       " (17, 'Hip Hop/Rap'),\n",
       " (18, 'Science Fiction'),\n",
       " (19, 'TV Shows'),\n",
       " (20, 'Sci Fi & Fantasy'),\n",
       " (21, 'Drama'),\n",
       " (22, 'Comedy'),\n",
       " (23, 'Alternative'),\n",
       " (24, 'Classical'),\n",
       " (25, 'Opera')]"
      ]
     },
     "execution_count": 75,
     "metadata": {},
     "output_type": "execute_result"
    }
   ],
   "source": [
    "cursor.execute(\"SELECT * FROM genres;\")\n",
    "genres = cursor.fetchall()\n",
    "genres"
   ]
  },
  {
   "cell_type": "code",
   "execution_count": 76,
   "metadata": {},
   "outputs": [
    {
     "data": {
      "text/plain": [
       "[('Rock', 1297),\n",
       " ('Latin', 579),\n",
       " ('Metal', 374),\n",
       " ('Alternative & Punk', 332),\n",
       " ('Jazz', 130),\n",
       " ('TV Shows', 93),\n",
       " ('Blues', 81),\n",
       " ('Classical', 74),\n",
       " ('Drama', 64),\n",
       " ('R&B/Soul', 61),\n",
       " ('Reggae', 58),\n",
       " ('Pop', 48),\n",
       " ('Soundtrack', 43),\n",
       " ('Alternative', 40),\n",
       " ('Hip Hop/Rap', 35),\n",
       " ('Electronica/Dance', 30),\n",
       " ('Heavy Metal', 28),\n",
       " ('World', 28),\n",
       " ('Sci Fi & Fantasy', 26),\n",
       " ('Easy Listening', 24),\n",
       " ('Comedy', 17),\n",
       " ('Bossa Nova', 15),\n",
       " ('Science Fiction', 13),\n",
       " ('Rock And Roll', 12),\n",
       " ('Opera', 1)]"
      ]
     },
     "execution_count": 76,
     "metadata": {},
     "output_type": "execute_result"
    }
   ],
   "source": [
    "query = \"SELECT genres.Name AS genre_name, COUNT(tracks.TrackId) AS track_count FROM genres JOIN tracks ON genres.GenreId = tracks.GenreId GROUP BY genres.GenreId, genre_name ORDER BY track_count DESC;\"\n",
    "\n",
    "cursor.execute(query)\n",
    "\n",
    "top_5_genres = cursor.fetchall()\n",
    "top_5_genres"
   ]
  },
  {
   "cell_type": "code",
   "execution_count": 77,
   "metadata": {},
   "outputs": [
    {
     "name": "stdout",
     "output_type": "stream",
     "text": [
      "['Rock', 'Latin', 'Metal', 'Alternative & Punk', 'Jazz', 'TV Shows', 'Blues', 'Classical', 'Drama', 'R&B/Soul', 'Reggae', 'Pop', 'Soundtrack', 'Alternative', 'Hip Hop/Rap', 'Electronica/Dance', 'Heavy Metal', 'World', 'Sci Fi & Fantasy', 'Easy Listening', 'Comedy', 'Bossa Nova', 'Science Fiction', 'Rock And Roll', 'Opera']\n"
     ]
    }
   ],
   "source": [
    "genre_names = [genre[0] for genre in top_5_genres]\n",
    "\n",
    "print(genre_names)\n",
    "selected_genres_tuple = tuple(genre_names)"
   ]
  },
  {
   "cell_type": "code",
   "execution_count": 78,
   "metadata": {},
   "outputs": [
    {
     "data": {
      "text/plain": [
       "[('Classical', 66),\n",
       " ('Rock', 51),\n",
       " ('Latin', 28),\n",
       " ('Alternative & Punk', 16),\n",
       " ('Metal', 14),\n",
       " ('Jazz', 10),\n",
       " ('Blues', 5),\n",
       " ('TV Shows', 5),\n",
       " ('Alternative', 5),\n",
       " ('Soundtrack', 4),\n",
       " ('R&B/Soul', 4),\n",
       " ('Reggae', 3),\n",
       " ('Pop', 3),\n",
       " ('Electronica/Dance', 3),\n",
       " ('World', 3),\n",
       " ('Hip Hop/Rap', 2),\n",
       " ('Sci Fi & Fantasy', 2),\n",
       " ('Drama', 2),\n",
       " ('Rock And Roll', 1),\n",
       " ('Bossa Nova', 1),\n",
       " ('Easy Listening', 1),\n",
       " ('Heavy Metal', 1),\n",
       " ('Science Fiction', 1),\n",
       " ('Comedy', 1),\n",
       " ('Opera', 1)]"
      ]
     },
     "execution_count": 78,
     "metadata": {},
     "output_type": "execute_result"
    }
   ],
   "source": [
    "query_num_artists = f\"\"\"\n",
    "    SELECT\n",
    "        genres.Name AS genre_name,\n",
    "        COUNT(DISTINCT artists.ArtistId) AS num_artists\n",
    "    FROM\n",
    "        genres\n",
    "    LEFT JOIN\n",
    "        tracks ON genres.GenreId = tracks.GenreId\n",
    "    LEFT JOIN\n",
    "        albums ON tracks.AlbumId = albums.AlbumId\n",
    "    LEFT JOIN\n",
    "        artists ON albums.ArtistId = artists.ArtistId\n",
    "    WHERE\n",
    "        genres.Name IN {selected_genres_tuple}\n",
    "    GROUP BY\n",
    "        genres.GenreId, genre_name\n",
    "    ORDER BY\n",
    "        num_artists DESC;\n",
    "\"\"\"\n",
    "\n",
    "\n",
    "cursor.execute(query_num_artists)\n",
    "\n",
    "number_of_artists = cursor.fetchall()\n",
    "number_of_artists"
   ]
  },
  {
   "cell_type": "code",
   "execution_count": 79,
   "metadata": {},
   "outputs": [
    {
     "data": {
      "text/plain": [
       "[('Classical', 66),\n",
       " ('Rock', 51),\n",
       " ('Latin', 28),\n",
       " ('Alternative & Punk', 16),\n",
       " ('Metal', 14),\n",
       " ('Jazz', 10),\n",
       " ('Blues', 5),\n",
       " ('TV Shows', 5),\n",
       " ('Alternative', 5),\n",
       " ('Soundtrack', 4),\n",
       " ('R&B/Soul', 4),\n",
       " ('Reggae', 3),\n",
       " ('Pop', 3),\n",
       " ('Electronica/Dance', 3),\n",
       " ('World', 3),\n",
       " ('Hip Hop/Rap', 2),\n",
       " ('Sci Fi & Fantasy', 2),\n",
       " ('Drama', 2),\n",
       " ('Rock And Roll', 1),\n",
       " ('Bossa Nova', 1),\n",
       " ('Easy Listening', 1),\n",
       " ('Heavy Metal', 1),\n",
       " ('Science Fiction', 1),\n",
       " ('Comedy', 1),\n",
       " ('Opera', 1)]"
      ]
     },
     "execution_count": 79,
     "metadata": {},
     "output_type": "execute_result"
    }
   ],
   "source": [
    "query_all_genres = \"\"\"\n",
    "    SELECT\n",
    "        genres.Name AS genre_name,\n",
    "        COUNT(DISTINCT artists.ArtistId) AS num_artists\n",
    "    FROM\n",
    "        genres\n",
    "    LEFT JOIN\n",
    "        tracks ON genres.GenreId = tracks.GenreId\n",
    "    LEFT JOIN\n",
    "        albums ON tracks.AlbumId = albums.AlbumId\n",
    "    LEFT JOIN\n",
    "        artists ON albums.ArtistId = artists.ArtistId\n",
    "    GROUP BY\n",
    "        genres.GenreId, genre_name\n",
    "    ORDER BY\n",
    "        num_artists DESC;\n",
    "\"\"\"\n",
    "\n",
    "cursor.execute(query_all_genres)\n",
    "\n",
    "all_genres_artists = cursor.fetchall()\n",
    "all_genres_artists\n"
   ]
  },
  {
   "cell_type": "code",
   "execution_count": 80,
   "metadata": {},
   "outputs": [
    {
     "data": {
      "text/plain": [
       "['Rock', 'Latin', 'Metal', 'Alternative & Punk', 'Jazz']"
      ]
     },
     "execution_count": 80,
     "metadata": {},
     "output_type": "execute_result"
    }
   ],
   "source": [
    "genre_most_tracks = [genre[0] for genre in top_5_genres[:5]]\n",
    "genre_most_tracks"
   ]
  },
  {
   "cell_type": "code",
   "execution_count": 81,
   "metadata": {},
   "outputs": [
    {
     "data": {
      "text/plain": [
       "['Classical', 'Rock', 'Latin', 'Alternative & Punk', 'Metal']"
      ]
     },
     "execution_count": 81,
     "metadata": {},
     "output_type": "execute_result"
    }
   ],
   "source": [
    "genre_most_artists = [genre[0] for genre in all_genres_artists[:5]]\n",
    "genre_most_artists"
   ]
  },
  {
   "cell_type": "code",
   "execution_count": 82,
   "metadata": {},
   "outputs": [
    {
     "name": "stdout",
     "output_type": "stream",
     "text": [
      "[('Rock', 1297, 51), ('Latin', 579, 28), ('Metal', 374, 14), ('Alternative & Punk', 332, 16), ('Jazz', 130, 10), ('TV Shows', 93, 5), ('Blues', 81, 5), ('Classical', 74, 66), ('Drama', 64, 2), ('R&B/Soul', 61, 4), ('Reggae', 58, 3), ('Pop', 48, 3), ('Soundtrack', 43, 4), ('Alternative', 40, 5), ('Hip Hop/Rap', 35, 2), ('Electronica/Dance', 30, 3), ('Heavy Metal', 28, 1), ('World', 28, 3), ('Sci Fi & Fantasy', 26, 2), ('Easy Listening', 24, 1), ('Comedy', 17, 1), ('Bossa Nova', 15, 1), ('Science Fiction', 13, 1), ('Rock And Roll', 12, 1), ('Opera', 1, 1)]\n"
     ]
    }
   ],
   "source": [
    "# Create a dictionary for quick lookup of artists data\n",
    "artists_dict = dict(all_genres_artists)\n",
    "\n",
    "# Iterate over top_5_genres and update each entry with the number of artists\n",
    "for i, (genre, track_count) in enumerate(top_5_genres):\n",
    "    # Get the number of artists for the current genre or default to 0\n",
    "    artist_count = artists_dict.get(genre, 0)\n",
    "    \n",
    "    # Update the entry with the number of artists\n",
    "    top_5_genres[i] = (genre, track_count, artist_count)\n",
    "\n",
    "# Print or use the updated list\n",
    "print(top_5_genres)"
   ]
  },
  {
   "cell_type": "code",
   "execution_count": 83,
   "metadata": {},
   "outputs": [],
   "source": [
    "json_data_genres = {\"genres_data\": []}\n",
    "\n",
    "for genre in top_5_genres:\n",
    "    json_data_genres[\"genres_data\"].append({\n",
    "        \"genre_name\": genre[0],  # Assuming the artist_id is at index 0\n",
    "        \"genre_tracks\": genre[1],       # Assuming the name is at index 1\n",
    "        \"genre_artists\": genre[2] # Assuming the album_count is at index 2\n",
    "    })\n",
    "\n",
    "path_correct_genre_data = \"../data/processed_data/transformed_genre_data.json\"\n",
    "\n",
    "with open(path_correct_genre_data, \"w\") as file:\n",
    "    json.dump(json_data_genres, file, indent=2)\n"
   ]
  },
  {
   "cell_type": "code",
   "execution_count": 84,
   "metadata": {},
   "outputs": [
    {
     "data": {
      "text/plain": [
       "[{'genre_name': 'Rock', 'genre_tracks': 1297, 'genre_artists': 51},\n",
       " {'genre_name': 'Latin', 'genre_tracks': 579, 'genre_artists': 28},\n",
       " {'genre_name': 'Metal', 'genre_tracks': 374, 'genre_artists': 14},\n",
       " {'genre_name': 'Alternative & Punk',\n",
       "  'genre_tracks': 332,\n",
       "  'genre_artists': 16},\n",
       " {'genre_name': 'Jazz', 'genre_tracks': 130, 'genre_artists': 10},\n",
       " {'genre_name': 'TV Shows', 'genre_tracks': 93, 'genre_artists': 5},\n",
       " {'genre_name': 'Blues', 'genre_tracks': 81, 'genre_artists': 5},\n",
       " {'genre_name': 'Classical', 'genre_tracks': 74, 'genre_artists': 66},\n",
       " {'genre_name': 'Drama', 'genre_tracks': 64, 'genre_artists': 2},\n",
       " {'genre_name': 'R&B/Soul', 'genre_tracks': 61, 'genre_artists': 4},\n",
       " {'genre_name': 'Reggae', 'genre_tracks': 58, 'genre_artists': 3},\n",
       " {'genre_name': 'Pop', 'genre_tracks': 48, 'genre_artists': 3},\n",
       " {'genre_name': 'Soundtrack', 'genre_tracks': 43, 'genre_artists': 4},\n",
       " {'genre_name': 'Alternative', 'genre_tracks': 40, 'genre_artists': 5},\n",
       " {'genre_name': 'Hip Hop/Rap', 'genre_tracks': 35, 'genre_artists': 2},\n",
       " {'genre_name': 'Electronica/Dance', 'genre_tracks': 30, 'genre_artists': 3},\n",
       " {'genre_name': 'Heavy Metal', 'genre_tracks': 28, 'genre_artists': 1},\n",
       " {'genre_name': 'World', 'genre_tracks': 28, 'genre_artists': 3},\n",
       " {'genre_name': 'Sci Fi & Fantasy', 'genre_tracks': 26, 'genre_artists': 2},\n",
       " {'genre_name': 'Easy Listening', 'genre_tracks': 24, 'genre_artists': 1},\n",
       " {'genre_name': 'Comedy', 'genre_tracks': 17, 'genre_artists': 1},\n",
       " {'genre_name': 'Bossa Nova', 'genre_tracks': 15, 'genre_artists': 1},\n",
       " {'genre_name': 'Science Fiction', 'genre_tracks': 13, 'genre_artists': 1},\n",
       " {'genre_name': 'Rock And Roll', 'genre_tracks': 12, 'genre_artists': 1},\n",
       " {'genre_name': 'Opera', 'genre_tracks': 1, 'genre_artists': 1}]"
      ]
     },
     "execution_count": 84,
     "metadata": {},
     "output_type": "execute_result"
    }
   ],
   "source": [
    "genres_data_list = json_data_genres['genres_data']\n",
    "\n",
    "genres_data_list"
   ]
  },
  {
   "cell_type": "code",
   "execution_count": 85,
   "metadata": {},
   "outputs": [
    {
     "data": {
      "text/plain": [
       "[59]"
      ]
     },
     "execution_count": 85,
     "metadata": {},
     "output_type": "execute_result"
    }
   ],
   "source": [
    "query = \"\"\"\n",
    "SELECT COUNT(CustomerId) AS num_customers\n",
    "FROM customers;\n",
    "\"\"\"\n",
    "\n",
    "cursor.execute(query)\n",
    "number_customers = list((cursor.fetchall())[0])\n",
    "number_customers"
   ]
  },
  {
   "cell_type": "code",
   "execution_count": 86,
   "metadata": {},
   "outputs": [
    {
     "data": {
      "text/plain": [
       "[519.32,\n",
       " 231.88,\n",
       " 149.74,\n",
       " 132.96,\n",
       " 52.1,\n",
       " 37.25,\n",
       " 32.45,\n",
       " 30.27,\n",
       " 25.62,\n",
       " 24.44,\n",
       " 23.23,\n",
       " 19.23,\n",
       " 17.24,\n",
       " 16.05,\n",
       " 14.02,\n",
       " 12.03,\n",
       " 11.21,\n",
       " 11.23,\n",
       " 10.42,\n",
       " 9.61,\n",
       " 6.81,\n",
       " 6.01,\n",
       " 5.21,\n",
       " 4.81,\n",
       " 0.41]"
      ]
     },
     "execution_count": 86,
     "metadata": {},
     "output_type": "execute_result"
    }
   ],
   "source": [
    "likability_score = []\n",
    "\n",
    "for genre in genres_data_list:\n",
    "    score = round(((0.4 * genre['genre_tracks']) + (0.6 * genre['genre_artists']) / number_customers[0]), 2) \n",
    "\n",
    "    likability_score.append(score)\n",
    "\n",
    "likability_score"
   ]
  },
  {
   "cell_type": "code",
   "execution_count": 87,
   "metadata": {},
   "outputs": [],
   "source": [
    "json_data_genres = {\"genres_data\": []}\n",
    "\n",
    "for genre, score in zip(top_5_genres, likability_score):\n",
    "    json_data_genres[\"genres_data\"].append({\n",
    "        \"genre_name\": genre[0],\n",
    "        \"genre_tracks\": genre[1],\n",
    "        \"genre_artists\": genre[2],\n",
    "        \"genre_likability_score\": score\n",
    "    })\n",
    "\n",
    "path_correct_genre_data = \"../data/processed_data/newest_transformed_genre_data.json\"\n",
    "\n",
    "with open(path_correct_genre_data, \"w\") as file:\n",
    "    json.dump(json_data_genres, file, indent=2)\n"
   ]
  },
  {
   "cell_type": "code",
   "execution_count": 88,
   "metadata": {},
   "outputs": [
    {
     "data": {
      "text/plain": [
       "[(1, 'MPEG audio file'),\n",
       " (2, 'Protected AAC audio file'),\n",
       " (3, 'Protected MPEG-4 video file'),\n",
       " (4, 'Purchased AAC audio file'),\n",
       " (5, 'AAC audio file')]"
      ]
     },
     "execution_count": 88,
     "metadata": {},
     "output_type": "execute_result"
    }
   ],
   "source": [
    "query_mediatypes = \"SELECT * FROM media_types;\"\n",
    "\n",
    "cursor.execute(query_mediatypes)\n",
    "results_test = cursor.fetchall()\n",
    "results_test"
   ]
  },
  {
   "cell_type": "code",
   "execution_count": null,
   "metadata": {},
   "outputs": [],
   "source": [
    "\n"
   ]
  }
 ],
 "metadata": {
  "kernelspec": {
   "display_name": ".venv",
   "language": "python",
   "name": "python3"
  },
  "language_info": {
   "codemirror_mode": {
    "name": "ipython",
    "version": 3
   },
   "file_extension": ".py",
   "mimetype": "text/x-python",
   "name": "python",
   "nbconvert_exporter": "python",
   "pygments_lexer": "ipython3",
   "version": "3.10.12"
  }
 },
 "nbformat": 4,
 "nbformat_minor": 2
}
